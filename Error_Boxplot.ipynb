{
 "cells": [
  {
   "cell_type": "code",
   "execution_count": 1,
   "id": "88efc340",
   "metadata": {},
   "outputs": [],
   "source": [
    "import numpy as np\n",
    "import pandas as pd\n",
    "import matplotlib.pyplot as plt\n",
    "import seaborn as sns\n",
    "import plotly.express as px\n",
    "# Mean Absolute Error(MAE)用\n",
    "from sklearn.metrics import mean_absolute_error\n",
    "# Root Mean Squared Error(RMSE)用\n",
    "from sklearn.metrics import mean_squared_error"
   ]
  },
  {
   "cell_type": "code",
   "execution_count": 2,
   "id": "837fe483",
   "metadata": {},
   "outputs": [],
   "source": [
    "res_mono = np.load(\"../Signal/Simulation_loops/Res_Monostatic.npy\")\n",
    "res_bi = np.load(\"../Signal/Simulation_loops/Res_Bistatic.npy\")"
   ]
  },
  {
   "cell_type": "code",
   "execution_count": 36,
   "id": "7dfcf320",
   "metadata": {},
   "outputs": [],
   "source": [
    "Wind_Direc=\"ward Wind(m/s)(u)\"\n",
    "data_use_mono = res_mono[2]\n",
    "data_use_bi = res_bi[2]"
   ]
  },
  {
   "cell_type": "code",
   "execution_count": 38,
   "id": "0269e32b",
   "metadata": {},
   "outputs": [
    {
     "data": {
      "image/png": "[encoded data removed]",
      "text/plain": [
       "<Figure size 288x432 with 1 Axes>"
      ]
     },
     "metadata": {
      "needs_background": "light"
     },
     "output_type": "display_data"
    }
   ],
   "source": [
    "fs = 25\n",
    "fw = 1000\n",
    "values = [data_use_mono,data_use_bi]\n",
    "labels = [\"Monostatic\",\"Bistatic\"]\n",
    "boxprop={\"color\":\"#2196F3\",\"facecolor\":\"#BBDEFB\"}\n",
    "medianprop={\"color\":\"r\",\"linewidth\":0.00002}\n",
    "meanprop={\"color\":\"r\",\"marker\":\"x\",\"markersize\":10,\"markerfacecolor\":\"r\",\"markeredgecolor\":\"r\"}\n",
    "fig,ax = plt.subplots(1,1,figsize=(4,6))\n",
    "ax.boxplot(values,labels=labels,boxprops=boxprop,meanprops=meanprop,medianprops=medianprop,showmeans=True,patch_artist=\"Patch\")\n",
    "ax.axhline(1,color=\"red\",linestyle=\"--\")\n",
    "ax.tick_params(labelsize = fs-10)\n",
    "ax.grid(axis='y')"
   ]
  }
 ],
 "metadata": {
  "kernelspec": {
   "display_name": "Python 3",
   "language": "python",
   "name": "python3"
  },
  "language_info": {
   "codemirror_mode": {
    "name": "ipython",
    "version": 3
   },
   "file_extension": ".py",
   "mimetype": "text/x-python",
   "name": "python",
   "nbconvert_exporter": "python",
   "pygments_lexer": "ipython3",
   "version": "3.8.8"
  }
 },
 "nbformat": 4,
 "nbformat_minor": 5
}
